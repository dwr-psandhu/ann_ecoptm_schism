{
 "cells": [
  {
   "cell_type": "code",
   "execution_count": null,
   "metadata": {
    "ExecuteTime": {
     "end_time": "2021-04-07T00:31:48.605769Z",
     "start_time": "2021-04-07T00:31:42.466861Z"
    }
   },
   "outputs": [],
   "source": [
    "#%load_ext autoreload\n",
    "#%autoreload 2\n",
    "\n",
    "import pandas as pd\n",
    "import numpy as np\n",
    "\n",
    "import hvplot.pandas\n",
    "import holoviews as hv\n",
    "import panel as pn"
   ]
  },
  {
   "cell_type": "code",
   "execution_count": null,
   "metadata": {
    "ExecuteTime": {
     "end_time": "2021-04-07T00:31:56.366124Z",
     "start_time": "2021-04-07T00:31:50.074429Z"
    }
   },
   "outputs": [],
   "source": [
    "import openpyxl"
   ]
  },
  {
   "cell_type": "code",
   "execution_count": null,
   "metadata": {
    "ExecuteTime": {
     "end_time": "2021-04-07T00:31:59.772328Z",
     "start_time": "2021-04-07T00:31:57.359298Z"
    }
   },
   "outputs": [],
   "source": [
    "df=pd.read_excel('./schout_2_Georgiana cross section.xlsx')\n"
   ]
  },
  {
   "cell_type": "markdown",
   "metadata": {},
   "source": [
    "## Average over time the velocities in x,y,z \n",
    "These are the coarse values that will become the input to the ANN\n",
    "\n",
    "Each input for a time stamp has 3 values of average x,y,z velocities. \n",
    "\n",
    "These will be mapped to 13 (xy) into 9 (z) values, i.e. 117 value array for each time step\n",
    "\n",
    "Furthermore a phase variable based on a cycle of 24 hrs, 15min, i.e. tidal signal will be added to the above inputs for a total of 4 inputs per time (each timestamp will become one training sample)\n",
    "\n",
    "The value of the phase variable can vary between 0 and 1 with a period of 24 hours and 15 mins"
   ]
  },
  {
   "cell_type": "code",
   "execution_count": null,
   "metadata": {
    "ExecuteTime": {
     "end_time": "2021-04-07T00:32:01.508380Z",
     "start_time": "2021-04-07T00:32:01.279897Z"
    }
   },
   "outputs": [],
   "source": [
    "df_input=df.groupby('time').agg('mean')[['xVel','yVel','zVel']]\n",
    "df_input"
   ]
  },
  {
   "cell_type": "code",
   "execution_count": null,
   "metadata": {
    "ExecuteTime": {
     "end_time": "2021-04-07T00:32:02.631014Z",
     "start_time": "2021-04-07T00:32:02.442848Z"
    }
   },
   "outputs": [],
   "source": [
    "df_input['phase']=np.arange(0,1,1/100.)[:96]"
   ]
  },
  {
   "cell_type": "code",
   "execution_count": null,
   "metadata": {
    "ExecuteTime": {
     "end_time": "2021-04-07T00:32:03.426654Z",
     "start_time": "2021-04-07T00:32:03.229993Z"
    }
   },
   "outputs": [],
   "source": [
    "df_input"
   ]
  },
  {
   "cell_type": "code",
   "execution_count": null,
   "metadata": {
    "ExecuteTime": {
     "end_time": "2021-04-07T00:32:04.226465Z",
     "start_time": "2021-04-07T00:32:04.035228Z"
    }
   },
   "outputs": [],
   "source": [
    "df_output_depth_averaged=df.groupby(['time','x','y']).mean()"
   ]
  },
  {
   "cell_type": "code",
   "execution_count": null,
   "metadata": {
    "ExecuteTime": {
     "end_time": "2021-04-07T00:32:05.160750Z",
     "start_time": "2021-04-07T00:32:04.894506Z"
    }
   },
   "outputs": [],
   "source": [
    "dfg_output=df.groupby(['time'])\n",
    "arr1=np.empty((96,117,3))\n",
    "for i,(n,g) in enumerate(dfg_output):\n",
    "    arr1[i]=g[['xVel','yVel','zVel']].values"
   ]
  },
  {
   "cell_type": "markdown",
   "metadata": {},
   "source": [
    "## Output has shape 117 x 3(velocities x,y,z)\n",
    "There are 96 time samples\n",
    "\n",
    "Y is the target or output vector"
   ]
  },
  {
   "cell_type": "code",
   "execution_count": null,
   "metadata": {
    "ExecuteTime": {
     "end_time": "2021-04-07T00:32:05.992437Z",
     "start_time": "2021-04-07T00:32:05.801806Z"
    }
   },
   "outputs": [],
   "source": [
    "arr1.shape"
   ]
  },
  {
   "cell_type": "code",
   "execution_count": null,
   "metadata": {
    "ExecuteTime": {
     "end_time": "2021-04-07T00:32:06.833137Z",
     "start_time": "2021-04-07T00:32:06.654478Z"
    }
   },
   "outputs": [],
   "source": [
    "Y=arr1"
   ]
  },
  {
   "cell_type": "markdown",
   "metadata": {},
   "source": [
    "## Input has shape of 4 values\n",
    "There are 96 samples (time steps)\n",
    "\n",
    "X is the input vector or labels"
   ]
  },
  {
   "cell_type": "code",
   "execution_count": null,
   "metadata": {
    "ExecuteTime": {
     "end_time": "2021-04-07T00:32:07.678509Z",
     "start_time": "2021-04-07T00:32:07.494300Z"
    }
   },
   "outputs": [],
   "source": [
    "df_input.values.shape"
   ]
  },
  {
   "cell_type": "code",
   "execution_count": null,
   "metadata": {
    "ExecuteTime": {
     "end_time": "2021-04-07T00:32:08.514634Z",
     "start_time": "2021-04-07T00:32:08.334494Z"
    }
   },
   "outputs": [],
   "source": [
    "X=df_input.values"
   ]
  },
  {
   "cell_type": "markdown",
   "metadata": {},
   "source": [
    "## Design a neural network \n",
    "\n",
    "The neural network should take 3 velocities and phase signal ( 25 hour approx) and output an array of 117 (xy (13) and z (9)) x 3 velocities"
   ]
  },
  {
   "cell_type": "code",
   "execution_count": null,
   "metadata": {
    "ExecuteTime": {
     "end_time": "2021-04-07T00:32:38.822310Z",
     "start_time": "2021-04-07T00:32:09.190685Z"
    }
   },
   "outputs": [],
   "source": [
    "# tensorflow with keras\n",
    "import tensorflow as tf\n",
    "from tensorflow import keras\n",
    "from tensorflow.keras import layers\n",
    "from tensorflow.keras.layers.experimental.preprocessing import Normalization\n",
    "# sci-kit learn\n",
    "from sklearn.preprocessing import MinMaxScaler\n",
    "from sklearn.metrics import r2_score"
   ]
  },
  {
   "cell_type": "markdown",
   "metadata": {},
   "source": [
    "## Scale the X and Y values to normalize. \n",
    "\n",
    "This may not be needed here but generally a good practice in numerics "
   ]
  },
  {
   "cell_type": "code",
   "execution_count": null,
   "metadata": {
    "ExecuteTime": {
     "end_time": "2021-04-07T00:32:40.737563Z",
     "start_time": "2021-04-07T00:32:40.296693Z"
    }
   },
   "outputs": [],
   "source": [
    "xscaler=MinMaxScaler()\n",
    "xx=xscaler.fit_transform(X)\n",
    "xx.shape"
   ]
  },
  {
   "cell_type": "code",
   "execution_count": null,
   "metadata": {
    "ExecuteTime": {
     "end_time": "2021-04-07T00:32:42.714893Z",
     "start_time": "2021-04-07T00:32:42.253037Z"
    }
   },
   "outputs": [],
   "source": [
    "yyt=np.empty(Y.shape)\n",
    "\n",
    "yscaler_array = [MinMaxScaler() for i in range(Y.shape[2])]\n",
    "for i in range(Y.shape[2]):\n",
    "    yyt[:,:,i] = yscaler_array[i].fit_transform(Y[:, :, i])"
   ]
  },
  {
   "cell_type": "code",
   "execution_count": null,
   "metadata": {
    "ExecuteTime": {
     "end_time": "2021-04-07T00:32:44.712554Z",
     "start_time": "2021-04-07T00:32:44.243669Z"
    }
   },
   "outputs": [],
   "source": [
    "yyt.shape"
   ]
  },
  {
   "cell_type": "code",
   "execution_count": null,
   "metadata": {
    "ExecuteTime": {
     "end_time": "2021-04-07T00:32:46.824927Z",
     "start_time": "2021-04-07T00:32:46.248307Z"
    }
   },
   "outputs": [],
   "source": [
    "model = keras.Sequential(\n",
    "    [\n",
    "        layers.Input(4),  # time x # of inputs\n",
    "        layers.Dense(117*10, activation='relu'),\n",
    "        layers.Dense(117*5, activation='relu'),\n",
    "        layers.Dense(117*3, activation='relu'),\n",
    "        layers.Reshape((117,3))\n",
    "        #layers.Conv1D(filters=10, kernel_size=10, activation='relu'),\n",
    "        #layers.Conv1D(filters=5, kernel_size=5, activation='relu'),\n",
    "        # layers.LSTM(20,activation='relu'),\n",
    "        #layers.Dense(10, activation=\"relu\"),\n",
    "        #layers.Dense(1, activation=\"relu\")\n",
    "    ])\n",
    "model.compile(optimizer=keras.optimizers.Adam(learning_rate=0.001), loss=\"mse\")\n",
    "model.summary()"
   ]
  },
  {
   "cell_type": "code",
   "execution_count": null,
   "metadata": {
    "ExecuteTime": {
     "end_time": "2021-04-07T00:32:48.827658Z",
     "start_time": "2021-04-07T00:32:48.360681Z"
    }
   },
   "outputs": [],
   "source": [
    "model.output_shape"
   ]
  },
  {
   "cell_type": "code",
   "execution_count": null,
   "metadata": {
    "ExecuteTime": {
     "end_time": "2021-04-07T00:32:50.839288Z",
     "start_time": "2021-04-07T00:32:50.386439Z"
    }
   },
   "outputs": [],
   "source": [
    "yyt.shape"
   ]
  },
  {
   "cell_type": "code",
   "execution_count": null,
   "metadata": {
    "ExecuteTime": {
     "start_time": "2021-04-07T00:32:12.024Z"
    }
   },
   "outputs": [],
   "source": [
    "history = model.fit(\n",
    "    xx,\n",
    "    yyt,\n",
    "    epochs=500,\n",
    "    batch_size=128,\n",
    "    validation_split=0.1,\n",
    "    callbacks=[\n",
    "        keras.callbacks.EarlyStopping(monitor=\"val_loss\", patience=100, mode=\"min\")\n",
    "    ],\n",
    ")\n"
   ]
  },
  {
   "cell_type": "code",
   "execution_count": null,
   "metadata": {
    "ExecuteTime": {
     "start_time": "2021-04-07T00:32:12.184Z"
    }
   },
   "outputs": [],
   "source": [
    "yyp=model.predict(xx)"
   ]
  },
  {
   "cell_type": "code",
   "execution_count": null,
   "metadata": {
    "ExecuteTime": {
     "start_time": "2021-04-07T00:32:12.672Z"
    }
   },
   "outputs": [],
   "source": [
    "yyp.shape,yyt.shape"
   ]
  },
  {
   "cell_type": "code",
   "execution_count": null,
   "metadata": {
    "ExecuteTime": {
     "start_time": "2021-04-07T00:32:13.417Z"
    }
   },
   "outputs": [],
   "source": [
    "hv.Curve(history.history['loss'],label='loss')"
   ]
  },
  {
   "cell_type": "markdown",
   "metadata": {},
   "source": [
    "## Show comparison of predictions vs values"
   ]
  },
  {
   "cell_type": "code",
   "execution_count": null,
   "metadata": {
    "ExecuteTime": {
     "start_time": "2021-04-07T00:32:13.766Z"
    }
   },
   "outputs": [],
   "source": [
    "def compare(index=0,vel_dim=0):\n",
    "    return hv.Curve(yyp[index,:,vel_dim],label='predicted')*hv.Curve(yyt[index,:,vel_dim],label='target')"
   ]
  },
  {
   "cell_type": "code",
   "execution_count": null,
   "metadata": {
    "ExecuteTime": {
     "start_time": "2021-04-07T00:32:13.922Z"
    }
   },
   "outputs": [],
   "source": [
    "hv.DynamicMap(compare,kdims=['index','vel_dim']).redim.range(index=(0,96),vel_dim=(0,3))"
   ]
  },
  {
   "cell_type": "code",
   "execution_count": null,
   "metadata": {},
   "outputs": [],
   "source": []
  },
  {
   "cell_type": "code",
   "execution_count": null,
   "metadata": {},
   "outputs": [],
   "source": []
  }
 ],
 "metadata": {
  "hide_input": false,
  "kernelspec": {
   "display_name": "Python [conda env:anntraining]",
   "language": "python",
   "name": "conda-env-anntraining-py"
  },
  "language_info": {
   "codemirror_mode": {
    "name": "ipython",
    "version": 3
   },
   "file_extension": ".py",
   "mimetype": "text/x-python",
   "name": "python",
   "nbconvert_exporter": "python",
   "pygments_lexer": "ipython3",
   "version": "3.7.10"
  },
  "toc": {
   "base_numbering": 1,
   "nav_menu": {},
   "number_sections": true,
   "sideBar": true,
   "skip_h1_title": false,
   "title_cell": "Table of Contents",
   "title_sidebar": "Contents",
   "toc_cell": false,
   "toc_position": {},
   "toc_section_display": true,
   "toc_window_display": false
  },
  "varInspector": {
   "cols": {
    "lenName": 16,
    "lenType": 16,
    "lenVar": 40
   },
   "kernels_config": {
    "python": {
     "delete_cmd_postfix": "",
     "delete_cmd_prefix": "del ",
     "library": "var_list.py",
     "varRefreshCmd": "print(var_dic_list())"
    },
    "r": {
     "delete_cmd_postfix": ") ",
     "delete_cmd_prefix": "rm(",
     "library": "var_list.r",
     "varRefreshCmd": "cat(var_dic_list()) "
    }
   },
   "types_to_exclude": [
    "module",
    "function",
    "builtin_function_or_method",
    "instance",
    "_Feature"
   ],
   "window_display": false
  }
 },
 "nbformat": 4,
 "nbformat_minor": 4
}